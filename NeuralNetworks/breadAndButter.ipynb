{
 "cells": [
  {
   "cell_type": "code",
   "execution_count": 2,
   "metadata": {},
   "outputs": [],
   "source": [
    "import numpy as np\n",
    "np.random.seed(0)"
   ]
  },
  {
   "cell_type": "code",
   "execution_count": 3,
   "metadata": {},
   "outputs": [
    {
     "name": "stdout",
     "output_type": "stream",
     "text": [
      "[[ 1  7  3]\n",
      " [ 2  5  8]\n",
      " [ 3 -1  6]\n",
      " [ 4  9  1]]\n"
     ]
    }
   ],
   "source": [
    "# .T transpose... changes rows into collumns and vice versa\n",
    "exampleArray = [[1, 2, 3, 4],\n",
    "\t\t\t[7, 5, -1, 9],\n",
    "\t\t\t[3, 8, 6, 1]]\n",
    "print(np.array(exampleArray).T)"
   ]
  },
  {
   "cell_type": "code",
   "execution_count": 4,
   "metadata": {},
   "outputs": [
    {
     "name": "stdout",
     "output_type": "stream",
     "text": [
      "[[ 4.8    1.21   2.385]\n",
      " [ 8.9   -1.81   0.2  ]\n",
      " [ 1.41   1.051  0.026]]\n"
     ]
    }
   ],
   "source": [
    "# Single layer\n",
    "inputs = [[1, 2, 3, 2.5],\n",
    "\t\t\t[2.0, 5.0, -1.0, 2.0],\n",
    "\t\t\t[-1.5, 2.7, 3.3, -0.8]]\n",
    "\n",
    "weights = [[0.2, 0.8, -0.5, 1.0],\n",
    "\t\t\t[0.5, -0.91, 0.26, -0.5],\n",
    "\t\t\t[-0.26, -0.27, 0.17, 0.87]]\n",
    "\n",
    "biases = [2, 3, 0.5]\n",
    "\n",
    "# .T required to avoid shape errors\n",
    "output = np.dot(inputs, np.array(weights).T) + biases\n",
    "print(output)"
   ]
  },
  {
   "cell_type": "code",
   "execution_count": 5,
   "metadata": {},
   "outputs": [
    {
     "name": "stdout",
     "output_type": "stream",
     "text": [
      "[[ 0.5031  -1.04185 -2.02665]\n",
      " [ 0.2434  -2.7332  -5.7814 ]\n",
      " [-0.99314  1.41254 -0.34604]]\n"
     ]
    }
   ],
   "source": [
    "# 2 Layers without objects\n",
    "inputs = [[1, 2, 3, 2.5],\n",
    "\t\t\t[2.0, 5.0, -1.0, 2.0],\n",
    "\t\t\t[-1.5, 2.7, 3.3, -0.8]]\n",
    "\n",
    "weights = [[0.2, 0.8, -0.5, 1.0],\n",
    "\t\t\t[0.5, -0.91, 0.26, -0.5],\n",
    "\t\t\t[-0.26, -0.27, 0.17, 0.87]]\n",
    "\n",
    "biases = [2, 3, 0.5]\n",
    "\n",
    "weights2 = [[0.1, -0.14, 0.5],\n",
    "\t\t\t[-0.5, 0.12, -0.33],\n",
    "\t\t\t[-0.44, 0.74, -0.13]]\n",
    "\n",
    "biases2 = [-1, 2, -0.5]\n",
    "\n",
    "layer1_outputs = np.dot(inputs, np.array(weights).T) + biases\n",
    "layer2_outputs = np.dot(layer1_outputs, np.array(weights2).T) + biases2\n",
    "print(layer2_outputs)\n"
   ]
  },
  {
   "cell_type": "code",
   "execution_count": 6,
   "metadata": {},
   "outputs": [
    {
     "name": "stdout",
     "output_type": "stream",
     "text": [
      "[[ 0.17640523  0.04001572  0.0978738 ]\n",
      " [ 0.22408932  0.1867558  -0.09772779]]\n",
      "\n",
      "[[0. 0. 0. 0.]\n",
      " [0. 0. 0. 0.]]\n"
     ]
    }
   ],
   "source": [
    "# How .randn and .zeros work. \n",
    "# 0.1 to make values below 1 (standart for neural networks)\n",
    "print(0.1 * np.random.randn(2, 3))\n",
    "print()\n",
    "print(np.zeros((2, 4)))"
   ]
  },
  {
   "cell_type": "code",
   "execution_count": 8,
   "metadata": {},
   "outputs": [
    {
     "name": "stdout",
     "output_type": "stream",
     "text": [
      "[[-0.4400875  -0.11547023 -0.427905   -0.20302835 -0.35402716]\n",
      " [-0.2612908  -0.79256919  0.82318568 -0.29964906 -0.25353471]\n",
      " [-1.01232311 -0.3436137   0.14667266 -0.16021039 -0.29076763]]\n",
      "\n",
      "[[0.04339992 0.0555352 ]\n",
      " [0.01304788 0.05316297]\n",
      " [0.0130678  0.01591002]]\n"
     ]
    }
   ],
   "source": [
    "# Multiple layers using objects. X = inputs\n",
    "X = [[1, 2, 3, 2.5],\n",
    "\t [2.0, 5.0, -1.0, 2.0],\n",
    "\t [-1.5, 2.7, 3.3, -0.8]]\n",
    "\n",
    "class Layer_Dense:\n",
    "\tdef __init__(self, n_inputs, n_neurons):\n",
    "\t\tself.weights = 0.1 * np.random.randn(n_inputs, n_neurons)\n",
    "\t\tself.biases = np.zeros((1, n_neurons))\n",
    "\tdef forward(self, inputs):\n",
    "\t\tself.output = np.dot(inputs, self.weights) + self.biases\n",
    "\n",
    "# Layer_Dense(x, y) x = number of elements in list from X (4).\n",
    "# y can be any value\n",
    "# If creating another layer, x has to be equal to y from the previous layer.\n",
    "layer1 = Layer_Dense(4, 5)\n",
    "layer2 = Layer_Dense(5,2)\n",
    "\n",
    "layer1.forward(X)\n",
    "print(layer1.output)\n",
    "print()\n",
    "layer2.forward(layer1.output)\n",
    "print(layer2.output)"
   ]
  }
 ],
 "metadata": {
  "interpreter": {
   "hash": "aee8b7b246df8f9039afb4144a1f6fd8d2ca17a180786b69acc140d282b71a49"
  },
  "kernelspec": {
   "display_name": "Python 3.9.5 64-bit",
   "name": "python3"
  },
  "language_info": {
   "codemirror_mode": {
    "name": "ipython",
    "version": 3
   },
   "file_extension": ".py",
   "mimetype": "text/x-python",
   "name": "python",
   "nbconvert_exporter": "python",
   "pygments_lexer": "ipython3",
   "version": "3.9.5"
  },
  "orig_nbformat": 4
 },
 "nbformat": 4,
 "nbformat_minor": 2
}
